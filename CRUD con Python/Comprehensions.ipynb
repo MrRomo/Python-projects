{
 "cells": [
  {
   "cell_type": "code",
   "execution_count": 2,
   "metadata": {
    "collapsed": true
   },
   "outputs": [],
   "source": [
    "import time"
   ]
  },
  {
   "cell_type": "code",
   "execution_count": 30,
   "metadata": {
    "collapsed": true
   },
   "outputs": [],
   "source": [
    "def forloop(list1,list2):\n",
    "    c = []\n",
    "    for i in range(len(list1)) :\n",
    "        c.append(list1[i]+list2[i])\n",
    "    \n",
    "    return c\n",
    "\n",
    "        "
   ]
  },
  {
   "cell_type": "code",
   "execution_count": 68,
   "metadata": {},
   "outputs": [],
   "source": [
    "def comprehensionsloop(list1,list2):\n",
    "    return [num1+num2 for num1,num2 in zip(list1,list2)]"
   ]
  },
  {
   "cell_type": "code",
   "execution_count": 81,
   "metadata": {},
   "outputs": [
    {
     "name": "stdout",
     "output_type": "stream",
     "text": [
      "4000000 4000000\n",
      "<class 'range'> 4000000\n"
     ]
    }
   ],
   "source": [
    "list1 = (range(4000000))\n",
    "list2 = (range(4000000,8000000))\n",
    "print(len(list1),len(list2))\n",
    "print(type(list1),len(list2))"
   ]
  },
  {
   "cell_type": "code",
   "execution_count": 82,
   "metadata": {},
   "outputs": [
    {
     "name": "stdout",
     "output_type": "stream",
     "text": [
      "1.1608703136444092\n",
      "0.3531177043914795\n"
     ]
    }
   ],
   "source": [
    "a = time.time()\n",
    "forloop(list1,list2)\n",
    "print(time.time()-a)\n",
    "\n",
    "a = time.time()\n",
    "comprehensionsloop(list1,list2)\n",
    "print(time.time()-a)"
   ]
  },
  {
   "cell_type": "code",
   "execution_count": 83,
   "metadata": {},
   "outputs": [
    {
     "data": {
      "text/plain": [
       "1576073366.5091102"
      ]
     },
     "execution_count": 83,
     "metadata": {},
     "output_type": "execute_result"
    }
   ],
   "source": [
    "a"
   ]
  }
 ],
 "metadata": {
  "kernelspec": {
   "display_name": "Python 3",
   "language": "python",
   "name": "python3"
  },
  "language_info": {
   "codemirror_mode": {
    "name": "ipython",
    "version": 3
   },
   "file_extension": ".py",
   "mimetype": "text/x-python",
   "name": "python",
   "nbconvert_exporter": "python",
   "pygments_lexer": "ipython3",
   "version": "3.6.3"
  }
 },
 "nbformat": 4,
 "nbformat_minor": 2
}
