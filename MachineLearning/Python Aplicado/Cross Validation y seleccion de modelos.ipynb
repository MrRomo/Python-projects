{
 "cells": [
  {
   "cell_type": "code",
   "execution_count": 1,
   "metadata": {
    "collapsed": true
   },
   "outputs": [],
   "source": [
    "import warnings\n",
    "warnings.simplefilter(\"ignore\")\n"
   ]
  },
  {
   "cell_type": "code",
   "execution_count": 2,
   "metadata": {
    "collapsed": true
   },
   "outputs": [],
   "source": [
    "%matplotlib inline\n",
    "import numpy as np\n",
    "import pandas as pd\n",
    "import matplotlib.pyplot as plt"
   ]
  },
  {
   "cell_type": "code",
   "execution_count": 4,
   "metadata": {},
   "outputs": [],
   "source": [
    "\n",
    "X = pd.read_csv('X_opening.csv')\n",
    "y = X['worldwide_gross']\n",
    "X = X.drop('worldwide_gross',axis=1)"
   ]
  },
  {
   "cell_type": "code",
   "execution_count": 22,
   "metadata": {},
   "outputs": [
    {
     "data": {
      "text/html": [
       "<div>\n",
       "<style scoped>\n",
       "    .dataframe tbody tr th:only-of-type {\n",
       "        vertical-align: middle;\n",
       "    }\n",
       "\n",
       "    .dataframe tbody tr th {\n",
       "        vertical-align: top;\n",
       "    }\n",
       "\n",
       "    .dataframe thead th {\n",
       "        text-align: right;\n",
       "    }\n",
       "</style>\n",
       "<table border=\"1\" class=\"dataframe\">\n",
       "  <thead>\n",
       "    <tr style=\"text-align: right;\">\n",
       "      <th></th>\n",
       "      <th>production_budget</th>\n",
       "      <th>title_year</th>\n",
       "      <th>aspect_ratio</th>\n",
       "      <th>duration.1</th>\n",
       "      <th>cast_total_facebook_likes</th>\n",
       "      <th>budget</th>\n",
       "      <th>imdb_score</th>\n",
       "      <th>opening_gross</th>\n",
       "      <th>screens</th>\n",
       "    </tr>\n",
       "  </thead>\n",
       "  <tbody>\n",
       "    <tr>\n",
       "      <th>0</th>\n",
       "      <td>425000000.0</td>\n",
       "      <td>2009.0</td>\n",
       "      <td>1.78</td>\n",
       "      <td>178.0</td>\n",
       "      <td>4834.0</td>\n",
       "      <td>237000000.0</td>\n",
       "      <td>7.9</td>\n",
       "      <td>77025481.0</td>\n",
       "      <td>3452.0</td>\n",
       "    </tr>\n",
       "    <tr>\n",
       "      <th>1</th>\n",
       "      <td>300000000.0</td>\n",
       "      <td>2007.0</td>\n",
       "      <td>2.35</td>\n",
       "      <td>169.0</td>\n",
       "      <td>48350.0</td>\n",
       "      <td>300000000.0</td>\n",
       "      <td>7.1</td>\n",
       "      <td>139802190.0</td>\n",
       "      <td>4362.0</td>\n",
       "    </tr>\n",
       "  </tbody>\n",
       "</table>\n",
       "</div>"
      ],
      "text/plain": [
       "   production_budget  title_year  aspect_ratio  duration.1  \\\n",
       "0        425000000.0      2009.0          1.78       178.0   \n",
       "1        300000000.0      2007.0          2.35       169.0   \n",
       "\n",
       "   cast_total_facebook_likes       budget  imdb_score  opening_gross  screens  \n",
       "0                     4834.0  237000000.0         7.9     77025481.0   3452.0  \n",
       "1                    48350.0  300000000.0         7.1    139802190.0   4362.0  "
      ]
     },
     "execution_count": 22,
     "metadata": {},
     "output_type": "execute_result"
    }
   ],
   "source": [
    "X.head(2)"
   ]
  },
  {
   "cell_type": "markdown",
   "metadata": {},
   "source": [
    "Metodos de evaluación\n",
    "Por ahora hemos visto que:\n",
    "\n",
    "Se necesita separar de forma aleatoria en datos de entrenamiento y testeo para poder evaluar performance del algoritmo\n",
    "Existen diversas métricas para evaluar performance, y elegimos la nuestra según las caracteristicas de nuestro problema\n",
    "Es útil apoyar la evaluación con visualizaciones de errores, como por ejemplo scatterplots de residuales\n",
    "Sin embargo nuestro método hasta ahora tiene una falla. Este depende de la forma en que fueron elegidos nuestros datos de forma aleatoria:\n",
    "\n",
    "Podemos tener suerte y caer en un train set y test set que sea ideal para nuestro modelo.\n",
    "Podemos tener pésima performance con esa separación de datos pero no en otros.\n",
    "Controlar la aleatoridad en train_test_split\n",
    "\n",
    "train_test_split separa cada vez que lo llamamos los datos de forma diferente. Para poder comparar modelos, hacer un código más limpio y compacto y para poder hacer nuestros experimentos reproducibles utilizaremos el parametro random_state.\n",
    "\n"
   ]
  },
  {
   "cell_type": "code",
   "execution_count": 13,
   "metadata": {},
   "outputs": [
    {
     "data": {
      "text/plain": [
       "True"
      ]
     },
     "execution_count": 13,
     "metadata": {},
     "output_type": "execute_result"
    }
   ],
   "source": [
    "from sklearn.model_selection import train_test_split\n",
    "X_train, X_test, y_train, y_test = train_test_split(X,y,random_state=1)\n",
    "X2_train, X2_test, y2_train, y2_test = train_test_split(X,y,random_state=1)\n",
    "pd.DataFrame.equals(X_train,X2_train)"
   ]
  },
  {
   "cell_type": "code",
   "execution_count": 14,
   "metadata": {},
   "outputs": [
    {
     "data": {
      "text/plain": [
       "0.79261902949633622"
      ]
     },
     "execution_count": 14,
     "metadata": {},
     "output_type": "execute_result"
    }
   ],
   "source": [
    "from sklearn.linear_model import Lasso\n",
    "\n",
    "Lasso().fit(X_train,y_train).score(X_test,y_test)\n"
   ]
  },
  {
   "cell_type": "code",
   "execution_count": 21,
   "metadata": {},
   "outputs": [
    {
     "data": {
      "text/plain": [
       "0.4496402174579181"
      ]
     },
     "execution_count": 21,
     "metadata": {},
     "output_type": "execute_result"
    }
   ],
   "source": [
    "from sklearn.model_selection import cross_val_score\n",
    "scores = cross_val_score(Lasso(),X,y,cv=5,scoring='r2')\n",
    "scores\n",
    "scores.mean()"
   ]
  },
  {
   "cell_type": "code",
   "execution_count": 23,
   "metadata": {},
   "outputs": [
    {
     "data": {
      "text/plain": [
       "{'fit_time': array([ 0.00775623,  0.01398706,  0.03290987,  0.01003933,  0.00607181]),\n",
       " 'score_time': array([ 0.00201058,  0.00233412,  0.00203443,  0.02795458,  0.00115991]),\n",
       " 'test_score': array([ 0.59316596,  0.68931527,  0.55383855,  0.18147236,  0.23040894]),\n",
       " 'train_score': array([ 0.68988012,  0.77004932,  0.76604995,  0.76123379,  0.75837599])}"
      ]
     },
     "execution_count": 23,
     "metadata": {},
     "output_type": "execute_result"
    }
   ],
   "source": [
    "from sklearn.model_selection import cross_validate\n",
    "\n",
    "results = cross_validate(Lasso(),X,y,return_train_score=True,cv=5)\n",
    "results"
   ]
  },
  {
   "cell_type": "code",
   "execution_count": 24,
   "metadata": {},
   "outputs": [
    {
     "name": "stdout",
     "output_type": "stream",
     "text": [
      "0.749117836304\n",
      "0.449640217458\n"
     ]
    }
   ],
   "source": [
    "test_scores = results['test_score']\n",
    "train_scores = results['train_score']\n",
    "print(np.mean(train_scores))\n",
    "print(np.mean(test_scores))"
   ]
  },
  {
   "cell_type": "markdown",
   "metadata": {},
   "source": [
    "# Validation Curves y Learning Curves\n",
    "\n"
   ]
  },
  {
   "cell_type": "code",
   "execution_count": 25,
   "metadata": {},
   "outputs": [
    {
     "data": {
      "text/plain": [
       "{'fit_time': array([ 0.00457287,  0.00407457,  0.00400352,  0.00360894,  0.00419879]),\n",
       " 'score_time': array([ 0.00508165,  0.00631166,  0.00643182,  0.0054338 ,  0.00512695]),\n",
       " 'test_score': array([ 0.3647382 ,  0.59274527,  0.21545625,  0.15143495,  0.25635077])}"
      ]
     },
     "execution_count": 25,
     "metadata": {},
     "output_type": "execute_result"
    }
   ],
   "source": [
    "from sklearn.neighbors import KNeighborsRegressor\n",
    "\n",
    "cross_validate(KNeighborsRegressor(), X, y, cv=5)"
   ]
  },
  {
   "cell_type": "code",
   "execution_count": 26,
   "metadata": {},
   "outputs": [
    {
     "data": {
      "text/plain": [
       "{'fit_time': array([ 0.00418663,  0.00232911,  0.00404882,  0.00319505,  0.0048058 ]),\n",
       " 'score_time': array([ 0.00491691,  0.00409842,  0.00422382,  0.00700116,  0.00618291]),\n",
       " 'test_score': array([ 0.23553954,  0.61921355,  0.24881301,  0.1209604 ,  0.2466995 ])}"
      ]
     },
     "execution_count": 26,
     "metadata": {},
     "output_type": "execute_result"
    }
   ],
   "source": [
    "cross_validate(KNeighborsRegressor(n_neighbors=10), X, y, cv=5)"
   ]
  },
  {
   "cell_type": "code",
   "execution_count": 27,
   "metadata": {},
   "outputs": [
    {
     "data": {
      "text/plain": [
       "array([ 0.86831591,  0.79120817,  0.7593398 ,  0.7498298 ,  0.74238245,\n",
       "        0.73284018,  0.72586058,  0.71779833,  0.71281982,  0.70976325,\n",
       "        0.70723469,  0.70502429,  0.70174649,  0.69741543,  0.69379214,\n",
       "        0.69163113,  0.68955146,  0.6862285 ,  0.68321376,  0.68018032,\n",
       "        0.67885534,  0.67522056,  0.67135123,  0.66953759])"
      ]
     },
     "execution_count": 27,
     "metadata": {},
     "output_type": "execute_result"
    }
   ],
   "source": [
    "from sklearn.model_selection import validation_curve\n",
    "\n",
    "n = np.arange(2,50,2)\n",
    "train_scores,test_scores = validation_curve(KNeighborsRegressor(),X,y,param_name='n_neighbors',param_range=n,cv=5)\n",
    "np.mean(train_scores,axis=1)"
   ]
  },
  {
   "cell_type": "code",
   "execution_count": 28,
   "metadata": {},
   "outputs": [
    {
     "data": {
      "text/plain": [
       "(24,)"
      ]
     },
     "execution_count": 28,
     "metadata": {},
     "output_type": "execute_result"
    }
   ],
   "source": [
    "n.shape"
   ]
  },
  {
   "cell_type": "code",
   "execution_count": 29,
   "metadata": {},
   "outputs": [
    {
     "data": {
      "text/plain": [
       "([<matplotlib.axis.XTick at 0x7fbb8003a198>,\n",
       "  <matplotlib.axis.XTick at 0x7fbb8003a4a8>,\n",
       "  <matplotlib.axis.XTick at 0x7fbb8003ab00>,\n",
       "  <matplotlib.axis.XTick at 0x7fbb7ae59908>,\n",
       "  <matplotlib.axis.XTick at 0x7fbb7ae59f60>,\n",
       "  <matplotlib.axis.XTick at 0x7fbb7ae5f5f8>,\n",
       "  <matplotlib.axis.XTick at 0x7fbb7ae5fc50>,\n",
       "  <matplotlib.axis.XTick at 0x7fbb7ae652e8>,\n",
       "  <matplotlib.axis.XTick at 0x7fbb7ae65940>,\n",
       "  <matplotlib.axis.XTick at 0x7fbb7ae65f98>,\n",
       "  <matplotlib.axis.XTick at 0x7fbb7ae6b668>,\n",
       "  <matplotlib.axis.XTick at 0x7fbb7ae6bcf8>,\n",
       "  <matplotlib.axis.XTick at 0x7fbb7ae723c8>,\n",
       "  <matplotlib.axis.XTick at 0x7fbb7ae72a58>,\n",
       "  <matplotlib.axis.XTick at 0x7fbb7adf7128>,\n",
       "  <matplotlib.axis.XTick at 0x7fbb7adf77b8>,\n",
       "  <matplotlib.axis.XTick at 0x7fbb7adf7e48>,\n",
       "  <matplotlib.axis.XTick at 0x7fbb7adfd518>,\n",
       "  <matplotlib.axis.XTick at 0x7fbb7adfdba8>,\n",
       "  <matplotlib.axis.XTick at 0x7fbb7ae03278>,\n",
       "  <matplotlib.axis.XTick at 0x7fbb7ae03908>,\n",
       "  <matplotlib.axis.XTick at 0x7fbb7ae03f98>,\n",
       "  <matplotlib.axis.XTick at 0x7fbb7ae09668>,\n",
       "  <matplotlib.axis.XTick at 0x7fbb7ae09cf8>],\n",
       " <a list of 24 Text xticklabel objects>)"
      ]
     },
     "execution_count": 29,
     "metadata": {},
     "output_type": "execute_result"
    },
    {
     "data": {
      "image/png": "[encoded data removed]",
      "text/plain": [
       "<matplotlib.figure.Figure at 0x7fbb8883c978>"
      ]
     },
     "metadata": {},
     "output_type": "display_data"
    }
   ],
   "source": [
    "plt.plot(np.mean(train_scores,axis=1))\n",
    "plt.plot(np.mean(test_scores,axis=1))\n",
    "plt.xticks(np.arange(24),n)"
   ]
  },
  {
   "cell_type": "code",
   "execution_count": 30,
   "metadata": {},
   "outputs": [
    {
     "data": {
      "text/plain": [
       "[<matplotlib.lines.Line2D at 0x7fbb8014c5f8>]"
      ]
     },
     "execution_count": 30,
     "metadata": {},
     "output_type": "execute_result"
    },
    {
     "data": {
      "image/png": "[encoded data removed]",
      "text/plain": [
       "<matplotlib.figure.Figure at 0x7fbb80150358>"
      ]
     },
     "metadata": {},
     "output_type": "display_data"
    }
   ],
   "source": [
    "from sklearn.model_selection import learning_curve\n",
    "\n",
    "lcurve = learning_curve(KNeighborsRegressor(n_neighbors=6),X,y,cv=5)\n",
    "samples,train,test = lcurve[0], lcurve[1],lcurve[2]\n",
    "plt.plot(samples[1:],np.mean(train,axis=1)[1:])\n",
    "plt.plot(samples[1:],np.mean(test,axis=1)[1:])"
   ]
  },
  {
   "cell_type": "code",
   "execution_count": null,
   "metadata": {
    "collapsed": true
   },
   "outputs": [],
   "source": []
  }
 ],
 "metadata": {
  "kernelspec": {
   "display_name": "Python 3",
   "language": "python",
   "name": "python3"
  },
  "language_info": {
   "codemirror_mode": {
    "name": "ipython",
    "version": 3
   },
   "file_extension": ".py",
   "mimetype": "text/x-python",
   "name": "python",
   "nbconvert_exporter": "python",
   "pygments_lexer": "ipython3",
   "version": "3.6.3"
  }
 },
 "nbformat": 4,
 "nbformat_minor": 2
}
