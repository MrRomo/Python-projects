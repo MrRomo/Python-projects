{
 "cells": [
  {
   "cell_type": "markdown",
   "metadata": {},
   "source": [
    "<h1> PROYECTO DE MACHINE LEARNING SUPERVISADO </h1>\n",
    "\n",
    "\n",
    "<h3>Clasificando dígitos escritos a mano</h3>"
   ]
  },
  {
   "cell_type": "markdown",
   "metadata": {},
   "source": [
    "El grupo de datos se los obtiene de: http://yann.lecun.com/exdb/mnist/.\n",
    "\n",
    "MNIST - Modified National Institute of Standards and Technology\n",
    "\n",
    "The MNIST database of handwritten digits, available from this page, has a training set of 60,000 examples, and a test set of 10,000 examples. It is a subset of a larger set available from NIST. The digits have been size-normalized and centered in a fixed-size image.\n",
    "\n",
    "\n",
    "<ul> train-images-idx3-ubyte.gz:  training set images </ul>\n",
    "<ul> train-labels-idx1-ubyte.gz:  training set labels </ul>\n",
    "<ul> t10k-images-idx3-ubyte.gz:   test set images </ul>\n",
    "<ul> t10k-labels-idx1-ubyte.gz:   test set labels </ul>\n",
    "\n",
    "\n",
    "\n",
    "\n",
    "\n",
    "Los datos en formato .gz descomprimirlos dentro de un folder **MNIST_data**\n",
    "\n",
    "$ gzip *ubyte.gz -d\n",
    "\n",
    "\n",
    "En nuestro consola de trabajo instalamos el paquete mnist que viene con python:\n",
    "\n",
    "**$ pip install python-mnist**\n",
    "\n",
    "\n",
    "Una reserva de esta info, podemos encontrar estos set de datos en formato .csv en kaggle: https://www.kaggle.com/c/digit-recognizer/data \n"
   ]
  },
  {
   "cell_type": "code",
   "execution_count": 1,
   "metadata": {},
   "outputs": [],
   "source": [
    "# DATOS\n",
    "\n",
    "# importar\n",
    "from mnist import MNIST\n",
    "\n",
    "\n",
    "#importar el dataset\n",
    "mndata = MNIST('MNIST_data')"
   ]
  },
  {
   "cell_type": "code",
   "execution_count": 2,
   "metadata": {},
   "outputs": [],
   "source": [
    "# DATOS de entrenamiento (features -> images y labels -> labels)\n",
    "# (features -> datos y labels -> etiquetas)\n",
    "datos, labels = mndata.load_training()"
   ]
  },
  {
   "cell_type": "code",
   "execution_count": 3,
   "metadata": {},
   "outputs": [],
   "source": [
    "# VISUALIZACION \n",
    "\n",
    "# librerías\n",
    "%matplotlib inline\n",
    "from matplotlib import pyplot as plt"
   ]
  },
  {
   "cell_type": "code",
   "execution_count": 4,
   "metadata": {},
   "outputs": [],
   "source": [
    "# Trabajo con ARRAYs\n",
    "\n",
    "# import NUMPY\n",
    "import numpy as np"
   ]
  },
  {
   "cell_type": "code",
   "execution_count": 5,
   "metadata": {},
   "outputs": [
    {
     "data": {
      "image/png": "[encoded data removed]",
      "text/plain": [
       "<Figure size 432x288 with 25 Axes>"
      ]
     },
     "metadata": {
      "needs_background": "light"
     },
     "output_type": "display_data"
    }
   ],
   "source": [
    "# matplotlib escala de grises\n",
    "plt.gray()\n",
    "\n",
    "\n",
    "for i in range(25):\n",
    "    plt.subplot(5,5,i+1)\n",
    "    \n",
    "    d_image = datos[i]\n",
    "    d_image = np.array(d_image, dtype='float')\n",
    "    \n",
    "    pixels = d_image.reshape((28, 28))\n",
    "    \n",
    "    plt.imshow(pixels, cmap='gray')\n",
    "    plt.title(labels[i])\n",
    "    plt.axis('off')\n",
    "plt.show()"
   ]
  },
  {
   "cell_type": "code",
   "execution_count": 6,
   "metadata": {},
   "outputs": [],
   "source": [
    "# sk-learn para dividir todo el set de entrenamiento en: entrenamiento y validación\n",
    "# https://scikit-learn.org/stable/modules/generated/sklearn.model_selection.train_test_split.html\n",
    "\n",
    "from sklearn.model_selection import train_test_split"
   ]
  },
  {
   "cell_type": "code",
   "execution_count": 7,
   "metadata": {},
   "outputs": [],
   "source": [
    "# DATOS \n",
    "# todos los datos de training... deben ser divididos\n",
    "\n",
    "#  -Datos de Entremamiento 70%  (features, labels)\n",
    "#  -Datos de Testing  30%   (features y labels)\n",
    "\n",
    "# sklearn.model_selection.train_test_split(*arrays, **options)\n",
    "\n",
    "# train_data, test_data, train_labels, test_labels\n",
    "train_data, test_data, train_labels, test_labels = train_test_split(datos, labels, test_size=0.3, random_state=42)"
   ]
  },
  {
   "cell_type": "markdown",
   "metadata": {},
   "source": [
    "<h3>Modelos y Entrenamiento</h3>"
   ]
  },
  {
   "cell_type": "code",
   "execution_count": 8,
   "metadata": {},
   "outputs": [],
   "source": [
    "# SKLEARN\n",
    "# que es como se usa\n",
    "\n",
    "# https://scikit-learn.org/stable/modules/generated/sklearn.model_selection.train_test_split.html\n",
    "\n",
    "from sklearn.model_selection import train_test_split"
   ]
  },
  {
   "cell_type": "markdown",
   "metadata": {},
   "source": [
    "Los datos estan listo para ser entrenados en nuestro clasificador.\n",
    "\n",
    "Vamos a seleccionar entre las diferentes opciones de Machine Learning supervisado:\n",
    "\n",
    "* Arbol de decisiones \"Decision Tree\"\n",
    "* Random Forest"
   ]
  },
  {
   "cell_type": "code",
   "execution_count": 9,
   "metadata": {},
   "outputs": [],
   "source": [
    "# SKLEARN\n",
    "# modelos de ML\n",
    "\n",
    "\n",
    "# decision tree\n",
    "from sklearn.tree import DecisionTreeClassifier"
   ]
  },
  {
   "cell_type": "markdown",
   "metadata": {},
   "source": [
    "class sklearn.tree.DecisionTreeClassifier(criterion=’gini’, splitter=’best’, max_depth=None, min_samples_split=2, min_samples_leaf=1, min_weight_fraction_leaf=0.0, max_features=None, random_state=None, max_leaf_nodes=None, min_impurity_decrease=0.0, min_impurity_split=None, class_weight=None, presort=False)[source]\n",
    "\n",
    "https://scikit-learn.org/stable/modules/generated/sklearn.tree.DecisionTreeClassifier.html"
   ]
  },
  {
   "cell_type": "code",
   "execution_count": 10,
   "metadata": {},
   "outputs": [],
   "source": [
    "# creamos el clasificador\n",
    "\n",
    "clf_dt = DecisionTreeClassifier()"
   ]
  },
  {
   "cell_type": "code",
   "execution_count": 11,
   "metadata": {},
   "outputs": [
    {
     "data": {
      "text/plain": [
       "DecisionTreeClassifier(class_weight=None, criterion='gini', max_depth=None,\n",
       "            max_features=None, max_leaf_nodes=None,\n",
       "            min_impurity_decrease=0.0, min_impurity_split=None,\n",
       "            min_samples_leaf=1, min_samples_split=2,\n",
       "            min_weight_fraction_leaf=0.0, presort=False, random_state=None,\n",
       "            splitter='best')"
      ]
     },
     "execution_count": 11,
     "metadata": {},
     "output_type": "execute_result"
    }
   ],
   "source": [
    "# entrenar (fit)\n",
    "\n",
    "clf_dt.fit(train_data, train_labels)"
   ]
  },
  {
   "cell_type": "markdown",
   "metadata": {},
   "source": [
    "<h3> Evaluación </h3>"
   ]
  },
  {
   "cell_type": "markdown",
   "metadata": {},
   "source": [
    "Utilizando la SKLEARN \n",
    "Matriz de Confusión\n",
    "\n",
    "https://scikit-learn.org/stable/auto_examples/model_selection/plot_confusion_matrix.html#sphx-glr-auto-examples-model-selection-plot-confusion-matrix-py"
   ]
  },
  {
   "cell_type": "code",
   "execution_count": 12,
   "metadata": {},
   "outputs": [],
   "source": [
    "# importar librería para las metricas de evaluación\n",
    "from sklearn.metrics import confusion_matrix"
   ]
  },
  {
   "cell_type": "code",
   "execution_count": 13,
   "metadata": {},
   "outputs": [],
   "source": [
    "# definimos una funcion para evaluar el clasificador\n",
    "def evaluate_classifier(clf, test_data, test_labels):\n",
    "    pred = clf.predict(test_data)\n",
    "    \n",
    "    MC = confusion_matrix(test_labels, pred)\n",
    "    return MC"
   ]
  },
  {
   "cell_type": "code",
   "execution_count": 14,
   "metadata": {},
   "outputs": [],
   "source": [
    "# vamos a evaluar nuestro clasificador con todo el \"training\" y \"testing\" set\n",
    "\n",
    "# evaluar clasificador: ARBOL DE DECISIONES, datos de evaluación: test_data, test_labels\n",
    "MC = evaluate_classifier(clf_dt, test_data, test_labels)"
   ]
  },
  {
   "cell_type": "code",
   "execution_count": 15,
   "metadata": {},
   "outputs": [
    {
     "name": "stdout",
     "output_type": "stream",
     "text": [
      "[[1647    2   22   19   17   30   20    6   29   13]\n",
      " [   2 1918   25    7    4    7    4    8   12    7]\n",
      " [  18   22 1471   54   18   21   48   36   51   20]\n",
      " [  13   16   61 1496   16   83    7   37   78   39]\n",
      " [   4    5   18   11 1494   23   27   30   26   88]\n",
      " [  29   17   31   81   19 1324   39   13   60   40]\n",
      " [  29    6   31    8   33   39 1595    1   35   10]\n",
      " [   7   15   49   19   25   16    8 1747   17   34]\n",
      " [  23   24   54   54   44   57   40   14 1358   62]\n",
      " [  16    8   23   35   77   47   12   59   48 1438]]\n"
     ]
    }
   ],
   "source": [
    "# imprimir la matriz de confusión\n",
    "print(MC)"
   ]
  },
  {
   "cell_type": "code",
   "execution_count": 16,
   "metadata": {},
   "outputs": [],
   "source": [
    "# calcular el puntaje con los valores de la matriz de confusión\n",
    "score = MC.diagonal().sum()*100./MC.sum()"
   ]
  },
  {
   "cell_type": "code",
   "execution_count": 17,
   "metadata": {},
   "outputs": [
    {
     "name": "stdout",
     "output_type": "stream",
     "text": [
      "86.04444444444445\n"
     ]
    }
   ],
   "source": [
    "# imprimir valor del puntaje (score)\n",
    "print(score)"
   ]
  },
  {
   "cell_type": "markdown",
   "metadata": {},
   "source": [
    "<h3>Otros modelos</h3>"
   ]
  },
  {
   "cell_type": "code",
   "execution_count": 18,
   "metadata": {},
   "outputs": [],
   "source": [
    "# SKLEARN\n",
    "# modelos de ML\n",
    "\n",
    "# importar RandomForest de sk-learn\n",
    "from sklearn.ensemble import RandomForestClassifier"
   ]
  },
  {
   "cell_type": "code",
   "execution_count": 19,
   "metadata": {},
   "outputs": [],
   "source": [
    "# RandomForest\n",
    "\n",
    "# n_estimators numero de árboles que queremos en la red\n",
    "# min_samples_split número mínimo de filas que utilizaremos\n",
    "# min_samples_leaf número mínimo de samples que tenemos al final del árbol\n",
    "\n",
    "# clf_rd = RandomForestClassifier(n_estimators=<numero de arboles>)\n",
    "# estimamos con 150 árboles\n",
    "clf_rd = RandomForestClassifier(n_estimators=150, min_samples_split=2)"
   ]
  },
  {
   "cell_type": "code",
   "execution_count": 20,
   "metadata": {},
   "outputs": [
    {
     "data": {
      "text/plain": [
       "RandomForestClassifier(bootstrap=True, class_weight=None, criterion='gini',\n",
       "            max_depth=None, max_features='auto', max_leaf_nodes=None,\n",
       "            min_impurity_decrease=0.0, min_impurity_split=None,\n",
       "            min_samples_leaf=1, min_samples_split=2,\n",
       "            min_weight_fraction_leaf=0.0, n_estimators=150, n_jobs=None,\n",
       "            oob_score=False, random_state=None, verbose=0,\n",
       "            warm_start=False)"
      ]
     },
     "execution_count": 20,
     "metadata": {},
     "output_type": "execute_result"
    }
   ],
   "source": [
    "# entrenar (fit)\n",
    "clf_rd.fit(train_data, train_labels)"
   ]
  },
  {
   "cell_type": "code",
   "execution_count": 21,
   "metadata": {},
   "outputs": [],
   "source": [
    "# vamos a evaluar nuestro clasificador con todo el \"training\" y \"testing\" set\n",
    "\n",
    "# evaluar RANDOM FOREST con el metodo de evaluador clasificador\n",
    "MC = evaluate_classifier(clf_rd, test_data, test_labels)"
   ]
  },
  {
   "cell_type": "code",
   "execution_count": 22,
   "metadata": {},
   "outputs": [
    {
     "name": "stdout",
     "output_type": "stream",
     "text": [
      "[[1775    0    2    0    4    6    6    0   12    0]\n",
      " [   0 1965   12    5    4    0    2    2    2    2]\n",
      " [   5    7 1708    6    4    0    5   15    7    2]\n",
      " [   4    1   32 1743    1   18    1   17   19   10]\n",
      " [   4    1    1    0 1675    1    6    4    3   31]\n",
      " [   9    2    3   17    1 1581   14    1   16    9]\n",
      " [   5    1    1    0    4   10 1759    0    7    0]\n",
      " [   2   10   24    1    6    0    0 1869    5   20]\n",
      " [   1    5   11   12   13   14    7    1 1656   10]\n",
      " [   6    4    6   15   18    7    2   14    7 1684]]\n"
     ]
    }
   ],
   "source": [
    "# imprimir valor de la matriz de confusión\n",
    "print(MC)"
   ]
  },
  {
   "cell_type": "code",
   "execution_count": 23,
   "metadata": {},
   "outputs": [],
   "source": [
    "# calcular el puntaje (score)\n",
    "score = MC.diagonal().sum()*100./MC.sum()"
   ]
  },
  {
   "cell_type": "code",
   "execution_count": 24,
   "metadata": {},
   "outputs": [
    {
     "name": "stdout",
     "output_type": "stream",
     "text": [
      "96.75\n"
     ]
    }
   ],
   "source": [
    "# imprimir el puntaje (score)\n",
    "print(score)"
   ]
  },
  {
   "cell_type": "markdown",
   "metadata": {},
   "source": [
    "<h3>DATOS FINALES DE PRUEBA</h3>"
   ]
  },
  {
   "cell_type": "code",
   "execution_count": 25,
   "metadata": {},
   "outputs": [],
   "source": [
    "# vamos a probar los datos de prueba\n",
    "\n",
    "# Cargamos los datos de evaluacion\n",
    "eval_data, eval_labels = mndata.load_testing()"
   ]
  },
  {
   "cell_type": "code",
   "execution_count": 26,
   "metadata": {},
   "outputs": [],
   "source": [
    "# Aplicamos el clasificador a todo el dataset de Evaluacion y obtenemos el Accuracy\n",
    "\n",
    "predicted_data = clf_rd.predict(eval_data)"
   ]
  },
  {
   "cell_type": "code",
   "execution_count": 28,
   "metadata": {},
   "outputs": [],
   "source": [
    "# vamos a evaluar nuestro clasificador con todo el \"training\" y \"testing\" set\n",
    "\n",
    "# evaluar RANDOM FOREST con el metodo de evaluador clasificador\n",
    "MC_clf_rd = evaluate_classifier(clf_rd, eval_data, np.array(eval_labels))"
   ]
  },
  {
   "cell_type": "code",
   "execution_count": 29,
   "metadata": {},
   "outputs": [
    {
     "name": "stdout",
     "output_type": "stream",
     "text": [
      "[[ 971    0    0    0    0    2    2    1    3    1]\n",
      " [   0 1123    2    4    0    2    2    1    1    0]\n",
      " [   5    0 1000    7    2    0    4    8    6    0]\n",
      " [   1    0   10  970    0    9    0    9    8    3]\n",
      " [   1    0    2    0  953    0    5    0    3   18]\n",
      " [   4    0    2   13    3  855    6    1    6    2]\n",
      " [   6    3    0    0    3    5  938    0    3    0]\n",
      " [   1    4   21    1    1    0    0  985    4   11]\n",
      " [   3    0    5    8    3    7    5    4  930    9]\n",
      " [   6    5    1    9   14    6    2    4    6  956]]\n"
     ]
    }
   ],
   "source": [
    "# imprimir valor de la matriz de confusión\n",
    "print(MC_clf_rd)"
   ]
  },
  {
   "cell_type": "code",
   "execution_count": 30,
   "metadata": {},
   "outputs": [],
   "source": [
    "# calcular el puntaje (score)\n",
    "score_clf_rd = MC_clf_rd.diagonal().sum()*100./MC_clf_rd.sum()"
   ]
  },
  {
   "cell_type": "code",
   "execution_count": 31,
   "metadata": {},
   "outputs": [
    {
     "name": "stdout",
     "output_type": "stream",
     "text": [
      "96.81\n"
     ]
    }
   ],
   "source": [
    "# imprimir el puntaje (score)\n",
    "print(score_clf_rd)"
   ]
  },
  {
   "cell_type": "markdown",
   "metadata": {},
   "source": [
    "<h2>Otras pruebas</h2>"
   ]
  },
  {
   "cell_type": "code",
   "execution_count": 64,
   "metadata": {},
   "outputs": [
    {
     "data": {
      "image/png": "[encoded data removed]",
      "text/plain": [
       "<Figure size 432x288 with 1 Axes>"
      ]
     },
     "metadata": {
      "needs_background": "light"
     },
     "output_type": "display_data"
    }
   ],
   "source": [
    "# Elegimos al azar una imagen del dataset de prueba. Index 8y lo graficamos para identificar q digito es\n",
    "\n",
    "# digito seleccionado\n",
    "data = 32\n",
    "d = eval_data[data]\n",
    "d = np.array(d, dtype='float')\n",
    "pixels = d.reshape((28, 28))\n",
    "plt.imshow(pixels, cmap='gray')\n",
    "plt.show()"
   ]
  },
  {
   "cell_type": "code",
   "execution_count": 66,
   "metadata": {},
   "outputs": [
    {
     "name": "stdout",
     "output_type": "stream",
     "text": [
      "[3]\n"
     ]
    }
   ],
   "source": [
    "# Aplicamos el clasificador a este index para ver el resultado\n",
    "#digito seleccionado\n",
    "print(clf_dt.predict( [eval_data[data]]))"
   ]
  },
  {
   "cell_type": "code",
   "execution_count": null,
   "metadata": {},
   "outputs": [],
   "source": []
  }
 ],
 "metadata": {
  "kernelspec": {
   "display_name": "Python 3",
   "language": "python",
   "name": "python3"
  },
  "language_info": {
   "codemirror_mode": {
    "name": "ipython",
    "version": 3
   },
   "file_extension": ".py",
   "mimetype": "text/x-python",
   "name": "python",
   "nbconvert_exporter": "python",
   "pygments_lexer": "ipython3",
   "version": "3.7.1"
  }
 },
 "nbformat": 4,
 "nbformat_minor": 2
}
