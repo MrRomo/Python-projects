{
 "cells": [
  {
   "cell_type": "code",
   "execution_count": 1,
   "metadata": {},
   "outputs": [],
   "source": [
    "#Datos\n",
    "from mnist import MNIST\n",
    "#Importar desde python nmist\n",
    "mndata = MNIST('MNIST_data')"
   ]
  },
  {
   "cell_type": "code",
   "execution_count": 7,
   "metadata": {},
   "outputs": [],
   "source": [
    "#datos de entrenamiento (features -> images y labels -> labels)\n",
    "\n",
    "#tarea\n",
    "\n",
    "#datos\n",
    "\n",
    "#Etiqueta\n",
    "\n",
    "datos,labels = mndata.load_training()"
   ]
  },
  {
   "cell_type": "code",
   "execution_count": 8,
   "metadata": {},
   "outputs": [],
   "source": [
    "#visualizacion \n",
    "#librerias\n",
    "%matplotlib inline\n",
    "from matplotlib import pyplot as plt\n"
   ]
  },
  {
   "cell_type": "code",
   "execution_count": 9,
   "metadata": {},
   "outputs": [],
   "source": [
    "#trabajo con array importar NUMPY\n",
    "import numpy as np\n"
   ]
  },
  {
   "cell_type": "code",
   "execution_count": null,
   "metadata": {},
   "outputs": [],
   "source": [
    "#escala de grises \n",
    "plt.gray()\n",
    "for i in range(25):\n",
    "    plt.subploy(5,5,i+1)\n",
    "    \n",
    "    d_image = datos[i]\n",
    "    d_image = np.array(d_image, dtype = 'float')\n",
    "\n",
    "    pixels = d_image.reshape((28,28))\n",
    "\n",
    "    plt.imshow(pixels, cmap = 'gray')\n",
    "\n",
    "    plt.axis('off')"
   ]
  }
 ],
 "metadata": {
  "kernelspec": {
   "display_name": "Python 3",
   "language": "python",
   "name": "python3"
  },
  "language_info": {
   "codemirror_mode": {
    "name": "ipython",
    "version": 3
   },
   "file_extension": ".py",
   "mimetype": "text/x-python",
   "name": "python",
   "nbconvert_exporter": "python",
   "pygments_lexer": "ipython3",
   "version": "3.7.1"
  }
 },
 "nbformat": 4,
 "nbformat_minor": 2
}
